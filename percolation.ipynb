{
 "cells": [
  {
   "cell_type": "code",
   "execution_count": 114,
   "metadata": {},
   "outputs": [],
   "source": [
    "import random\n",
    "\n",
    "def indicator(p):\n",
    "    return 1 if random.random() < p else 0\n",
    "\n",
    "class Edge:\n",
    "    def __init__(self, p):\n",
    "        self.open = indicator(p)\n",
    "        \n",
    "    def connect(self, parent=None):\n",
    "        self.parent = parent\n",
    "        return self\n",
    "    \n",
    "class Graph:\n",
    "    def __init__(self, p, d):\n",
    "        self.p = p\n",
    "        self.d = valence\n",
    "        v = Edge(1).connect()\n",
    "        self.candidates = [v]\n",
    "        self.counter = 1\n",
    "        self.l = 0\n",
    "        \n",
    "    def add_child(self):\n",
    "        parent = self.candidates.pop(0)\n",
    "        children = [Edge(self.p).connect(parent) for i in range(self.valence)]\n",
    "        children = [child for child in children if child.open == 1]\n",
    "        self.candidates.extend(children)\n",
    "        self.counter += len(children)\n",
    "        self.l += 1\n",
    "        \n",
    "    def build(self, max_depth=1e3):\n",
    "        while self.candidates:\n",
    "            self.add_child()\n",
    "            if self.l >= max_depth:\n",
    "                return self.counter, self.l #, self.l**self.valence\n",
    "        return self.counter, self.l #, self.l**self.valence\n",
    "       "
   ]
  },
  {
   "cell_type": "code",
   "execution_count": 151,
   "metadata": {},
   "outputs": [
    {
     "name": "stdout",
     "output_type": "stream",
     "text": [
      "(20971, 10000)\n"
     ]
    }
   ],
   "source": [
    "p = .7\n",
    "d = 3\n",
    "G = Graph(p, d)\n",
    "print(G.build(max_depth=1e4))"
   ]
  }
 ],
 "metadata": {
  "kernelspec": {
   "display_name": "Python 3",
   "language": "python",
   "name": "python3"
  },
  "language_info": {
   "codemirror_mode": {
    "name": "ipython",
    "version": 3
   },
   "file_extension": ".py",
   "mimetype": "text/x-python",
   "name": "python",
   "nbconvert_exporter": "python",
   "pygments_lexer": "ipython3",
   "version": "3.6.0"
  }
 },
 "nbformat": 4,
 "nbformat_minor": 4
}
